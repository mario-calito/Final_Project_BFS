{
 "cells": [
  {
   "cell_type": "code",
   "execution_count": 1,
   "id": "6b95e9bf",
   "metadata": {},
   "outputs": [],
   "source": [
    "import pandas as pd \n",
    "import numpy as np "
   ]
  },
  {
   "cell_type": "code",
   "execution_count": 2,
   "id": "66d62689",
   "metadata": {},
   "outputs": [],
   "source": [
    "uncleaned_data = pd.read_csv('Copy of Corrected_spotify_dataset.csv')"
   ]
  },
  {
   "cell_type": "code",
   "execution_count": 3,
   "id": "41559d70",
   "metadata": {},
   "outputs": [],
   "source": [
    "df = pd.DataFrame(uncleaned_data)\n",
    "df.drop((df.columns[4:124]), axis = 1, inplace = True)\n",
    "df.drop((df.columns[3]), axis = 1, inplace = True)\n",
    "df.drop_duplicates()\n",
    "df = df"
   ]
  },
  {
   "cell_type": "code",
   "execution_count": 4,
   "id": "c477cd69",
   "metadata": {},
   "outputs": [
    {
     "data": {
      "text/html": [
       "<div>\n",
       "<style scoped>\n",
       "    .dataframe tbody tr th:only-of-type {\n",
       "        vertical-align: middle;\n",
       "    }\n",
       "\n",
       "    .dataframe tbody tr th {\n",
       "        vertical-align: top;\n",
       "    }\n",
       "\n",
       "    .dataframe thead th {\n",
       "        text-align: right;\n",
       "    }\n",
       "</style>\n",
       "<table border=\"1\" class=\"dataframe\">\n",
       "  <thead>\n",
       "    <tr style=\"text-align: right;\">\n",
       "      <th></th>\n",
       "      <th>user_id</th>\n",
       "      <th>playlist_name</th>\n",
       "      <th>artist_name</th>\n",
       "    </tr>\n",
       "  </thead>\n",
       "  <tbody>\n",
       "    <tr>\n",
       "      <th>0</th>\n",
       "      <td>9cc0cfd4d7d7885102480dd99e7a90d6</td>\n",
       "      <td>HARD ROCK 2010</td>\n",
       "      <td>Elvis Costello</td>\n",
       "    </tr>\n",
       "    <tr>\n",
       "      <th>1</th>\n",
       "      <td>9cc0cfd4d7d7885102480dd99e7a90d6</td>\n",
       "      <td>HARD ROCK 2010</td>\n",
       "      <td>Elvis Costello &amp; The Attractions</td>\n",
       "    </tr>\n",
       "    <tr>\n",
       "      <th>2</th>\n",
       "      <td>9cc0cfd4d7d7885102480dd99e7a90d6</td>\n",
       "      <td>HARD ROCK 2010</td>\n",
       "      <td>Tiffany Page</td>\n",
       "    </tr>\n",
       "    <tr>\n",
       "      <th>3</th>\n",
       "      <td>9cc0cfd4d7d7885102480dd99e7a90d6</td>\n",
       "      <td>HARD ROCK 2010</td>\n",
       "      <td>Lissie</td>\n",
       "    </tr>\n",
       "    <tr>\n",
       "      <th>4</th>\n",
       "      <td>9cc0cfd4d7d7885102480dd99e7a90d6</td>\n",
       "      <td>HARD ROCK 2010</td>\n",
       "      <td>Paul McCartney</td>\n",
       "    </tr>\n",
       "    <tr>\n",
       "      <th>...</th>\n",
       "      <td>...</td>\n",
       "      <td>...</td>\n",
       "      <td>...</td>\n",
       "    </tr>\n",
       "    <tr>\n",
       "      <th>387477</th>\n",
       "      <td>576820c2da503406e16ae9782b3c0e4c</td>\n",
       "      <td>Current Office Playlist - regularly updated</td>\n",
       "      <td>Dr. John</td>\n",
       "    </tr>\n",
       "    <tr>\n",
       "      <th>387478</th>\n",
       "      <td>576820c2da503406e16ae9782b3c0e4c</td>\n",
       "      <td>Current Office Playlist - regularly updated</td>\n",
       "      <td>Punch Brothers</td>\n",
       "    </tr>\n",
       "    <tr>\n",
       "      <th>387479</th>\n",
       "      <td>576820c2da503406e16ae9782b3c0e4c</td>\n",
       "      <td>Current Office Playlist - regularly updated</td>\n",
       "      <td>Chicago Farmer</td>\n",
       "    </tr>\n",
       "    <tr>\n",
       "      <th>387480</th>\n",
       "      <td>576820c2da503406e16ae9782b3c0e4c</td>\n",
       "      <td>Current Office Playlist - regularly updated</td>\n",
       "      <td>Henrik Freischlader</td>\n",
       "    </tr>\n",
       "    <tr>\n",
       "      <th>387481</th>\n",
       "      <td>576820c2da503406e16ae9782b3c0e4c</td>\n",
       "      <td>Current Office Playlist - regularly updated</td>\n",
       "      <td>Curtis Harding</td>\n",
       "    </tr>\n",
       "  </tbody>\n",
       "</table>\n",
       "<p>387482 rows × 3 columns</p>\n",
       "</div>"
      ],
      "text/plain": [
       "                                 user_id  \\\n",
       "0       9cc0cfd4d7d7885102480dd99e7a90d6   \n",
       "1       9cc0cfd4d7d7885102480dd99e7a90d6   \n",
       "2       9cc0cfd4d7d7885102480dd99e7a90d6   \n",
       "3       9cc0cfd4d7d7885102480dd99e7a90d6   \n",
       "4       9cc0cfd4d7d7885102480dd99e7a90d6   \n",
       "...                                  ...   \n",
       "387477  576820c2da503406e16ae9782b3c0e4c   \n",
       "387478  576820c2da503406e16ae9782b3c0e4c   \n",
       "387479  576820c2da503406e16ae9782b3c0e4c   \n",
       "387480  576820c2da503406e16ae9782b3c0e4c   \n",
       "387481  576820c2da503406e16ae9782b3c0e4c   \n",
       "\n",
       "                                      playlist_name  \\\n",
       "0                                    HARD ROCK 2010   \n",
       "1                                    HARD ROCK 2010   \n",
       "2                                    HARD ROCK 2010   \n",
       "3                                    HARD ROCK 2010   \n",
       "4                                    HARD ROCK 2010   \n",
       "...                                             ...   \n",
       "387477  Current Office Playlist - regularly updated   \n",
       "387478  Current Office Playlist - regularly updated   \n",
       "387479  Current Office Playlist - regularly updated   \n",
       "387480  Current Office Playlist - regularly updated   \n",
       "387481  Current Office Playlist - regularly updated   \n",
       "\n",
       "                             artist_name  \n",
       "0                         Elvis Costello  \n",
       "1       Elvis Costello & The Attractions  \n",
       "2                           Tiffany Page  \n",
       "3                                 Lissie  \n",
       "4                         Paul McCartney  \n",
       "...                                  ...  \n",
       "387477                          Dr. John  \n",
       "387478                    Punch Brothers  \n",
       "387479                    Chicago Farmer  \n",
       "387480               Henrik Freischlader  \n",
       "387481                    Curtis Harding  \n",
       "\n",
       "[387482 rows x 3 columns]"
      ]
     },
     "execution_count": 4,
     "metadata": {},
     "output_type": "execute_result"
    }
   ],
   "source": [
    "df"
   ]
  },
  {
   "cell_type": "code",
   "execution_count": null,
   "id": "24931786",
   "metadata": {},
   "outputs": [
    {
     "ename": "",
     "evalue": "",
     "output_type": "error",
     "traceback": [
      "\u001b[1;31mJupyter cannot be started. Error attempting to locate Jupyter: Running cells with 'Python 3.10.1 64-bit' requires jupyter and notebook package.\n",
      "\u001b[1;31mRun the following command to install 'jupyter and notebook' into the Python environment. \n",
      "\u001b[1;31mCommand: 'python -m pip install jupyter notebook -U\n",
      "\u001b[1;31mor\n",
      "\u001b[1;31mconda install jupyter notebook -U'\n",
      "\u001b[1;31mClick <a href='https://aka.ms/installJupyterForVSCode'>here</a> for more info."
     ]
    }
   ],
   "source": [
    "df.to_csv(\"Cleaned_dataset.csv\", index = False)"
   ]
  },
  {
   "cell_type": "code",
   "execution_count": null,
   "id": "1dbbf6ed",
   "metadata": {},
   "outputs": [],
   "source": []
  }
 ],
 "metadata": {
  "kernelspec": {
   "display_name": "Python 3.10.1 64-bit",
   "language": "python",
   "name": "python3"
  },
  "language_info": {
   "codemirror_mode": {
    "name": "ipython",
    "version": 3
   },
   "file_extension": ".py",
   "mimetype": "text/x-python",
   "name": "python",
   "nbconvert_exporter": "python",
   "pygments_lexer": "ipython3",
   "version": "3.10.1"
  },
  "vscode": {
   "interpreter": {
    "hash": "aee8b7b246df8f9039afb4144a1f6fd8d2ca17a180786b69acc140d282b71a49"
   }
  }
 },
 "nbformat": 4,
 "nbformat_minor": 5
}
